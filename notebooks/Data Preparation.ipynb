{
 "cells": [
  {
   "cell_type": "markdown",
   "id": "d867751a",
   "metadata": {},
   "source": [
    "## Data Preparation for Instagram Dataset\n",
    "**Objective**\n",
    "\n",
    "The goal of this notebook is to clean and preprocess the dayta so it is ready for machine learning modeling. We will go through each module's steps systematically, deminstrating how to collect, clean, explore, and prepare the data for deployment."
   ]
  },
  {
   "cell_type": "markdown",
   "id": "afa7a1a8-7688-4982-80e4-634902444378",
   "metadata": {},
   "source": [
    "### Introduction to Data Preparation\n",
    "\n",
    "**What is Data Preparation?**\n",
    "Data Preparation involve preparing the data for modeling by cleaning, transforming, and reducing dimensionality, if needed. Data preparation ensures that the dataset is suitable for building machine learning models\n",
    "\n",
    "**Why is Data Preparation Important?**\n",
    "Properly prepared data improves the performance of machine learning models and ensures that the model's predictions are accurate and unbiased."
   ]
  },
  {
   "cell_type": "markdown",
   "id": "82f4b26a",
   "metadata": {},
   "source": [
    "### Dataset Overview"
   ]
  },
  {
   "cell_type": "markdown",
   "id": "e06c837e",
   "metadata": {},
   "source": [
    "The dataset contains information about various Instagram posts, including:\n",
    "- **id**: Unique identifier for each post.\n",
    "- **videoViewCount**: Number of views if the post is a video.\n",
    "- **commentsCount**: Number of comments on the post.\n",
    "- **timestamp**: Date and time when the post was published.\n",
    "- **url**: URL of the Instagram post.\n",
    "- **ownerId**: Unique identifier of the post's owner.\n",
    "- **productType**: Category of the content (e.g., 'cloth').\n",
    "- **type**: Type of the post (e.g., 'Image', 'Video').\n",
    "- **videoDuration**: Duration of the video (if applicable).\n",
    "- **likesCount**: Number of likes on the post.\n",
    "- **videoPlayCount**: Number of times the video was played.\n",
    "- **ownerUsername**: Username of the post owner.\n",
    "- **ownerFullName**: Full name of the post owner."
   ]
  },
  {
   "cell_type": "markdown",
   "id": "de55952d",
   "metadata": {},
   "source": [
    "### Data Cleaning\n",
    "\n",
    "Here we import and clean the dataset by handling missing values, fixing inconsistencies, and removing duplicates."
   ]
  },
  {
   "cell_type": "code",
   "execution_count": 1,
   "id": "14450e04",
   "metadata": {},
   "outputs": [],
   "source": [
    "import pandas as pd\n",
    "# Load data from a CSV file\n",
    "data = pd.read_csv('../data/raw/instagram_posts.csv')"
   ]
  },
  {
   "cell_type": "code",
   "execution_count": 2,
   "id": "7f6f7700-701b-4c0c-bb0c-53d9aa0516ac",
   "metadata": {},
   "outputs": [
    {
     "data": {
      "text/html": [
       "<div>\n",
       "<style scoped>\n",
       "    .dataframe tbody tr th:only-of-type {\n",
       "        vertical-align: middle;\n",
       "    }\n",
       "\n",
       "    .dataframe tbody tr th {\n",
       "        vertical-align: top;\n",
       "    }\n",
       "\n",
       "    .dataframe thead th {\n",
       "        text-align: right;\n",
       "    }\n",
       "</style>\n",
       "<table border=\"1\" class=\"dataframe\">\n",
       "  <thead>\n",
       "    <tr style=\"text-align: right;\">\n",
       "      <th></th>\n",
       "      <th>id</th>\n",
       "      <th>videoViewCount</th>\n",
       "      <th>commentsCount</th>\n",
       "      <th>timestamp</th>\n",
       "      <th>url</th>\n",
       "      <th>ownerId</th>\n",
       "      <th>productType</th>\n",
       "      <th>type</th>\n",
       "      <th>videoDuration</th>\n",
       "      <th>likesCount</th>\n",
       "      <th>videoPlayCount</th>\n",
       "      <th>ownerUsername</th>\n",
       "      <th>ownerFullName</th>\n",
       "    </tr>\n",
       "  </thead>\n",
       "  <tbody>\n",
       "    <tr>\n",
       "      <th>0</th>\n",
       "      <td>3.377730e+18</td>\n",
       "      <td>0</td>\n",
       "      <td>2</td>\n",
       "      <td>2024-05-28T06:13:04.000Z</td>\n",
       "      <td>https://www.instagram.com/p/C7gG02Io8z5/</td>\n",
       "      <td>48506231918</td>\n",
       "      <td>cloth</td>\n",
       "      <td>Image</td>\n",
       "      <td>0.000</td>\n",
       "      <td>5</td>\n",
       "      <td>0</td>\n",
       "      <td>aimee_apparel_</td>\n",
       "      <td>CHIAMAKA || LAGOS CLOTH VENDOR || ANAMBRA CLOT...</td>\n",
       "    </tr>\n",
       "    <tr>\n",
       "      <th>1</th>\n",
       "      <td>3.378452e+18</td>\n",
       "      <td>255</td>\n",
       "      <td>15</td>\n",
       "      <td>2024-05-29T06:08:32.000Z</td>\n",
       "      <td>https://www.instagram.com/p/C7irDFfogZg/</td>\n",
       "      <td>48506231918</td>\n",
       "      <td>cloth</td>\n",
       "      <td>Video</td>\n",
       "      <td>20.166</td>\n",
       "      <td>37</td>\n",
       "      <td>541</td>\n",
       "      <td>aimee_apparel_</td>\n",
       "      <td>CHIAMAKA || LAGOS CLOTH VENDOR || ANAMBRA CLOT...</td>\n",
       "    </tr>\n",
       "    <tr>\n",
       "      <th>2</th>\n",
       "      <td>3.377729e+18</td>\n",
       "      <td>632</td>\n",
       "      <td>51</td>\n",
       "      <td>2024-05-28T06:11:10.000Z</td>\n",
       "      <td>https://www.instagram.com/p/C7gGksNIQ_d/</td>\n",
       "      <td>48506231918</td>\n",
       "      <td>cloth</td>\n",
       "      <td>Video</td>\n",
       "      <td>15.138</td>\n",
       "      <td>112</td>\n",
       "      <td>1665</td>\n",
       "      <td>aimee_apparel_</td>\n",
       "      <td>CHIAMAKA || LAGOS CLOTH VENDOR || ANAMBRA CLOT...</td>\n",
       "    </tr>\n",
       "    <tr>\n",
       "      <th>3</th>\n",
       "      <td>3.376985e+18</td>\n",
       "      <td>643</td>\n",
       "      <td>81</td>\n",
       "      <td>2024-05-27T06:00:06.000Z</td>\n",
       "      <td>https://www.instagram.com/p/C7ddlvgoxK1/</td>\n",
       "      <td>4885237291</td>\n",
       "      <td>cloth</td>\n",
       "      <td>Video</td>\n",
       "      <td>16.902</td>\n",
       "      <td>143</td>\n",
       "      <td>1657</td>\n",
       "      <td>veecki._</td>\n",
       "      <td>VEE 👑 || Creator 📸</td>\n",
       "    </tr>\n",
       "    <tr>\n",
       "      <th>4</th>\n",
       "      <td>3.377065e+18</td>\n",
       "      <td>966</td>\n",
       "      <td>151</td>\n",
       "      <td>2024-05-27T08:16:41.000Z</td>\n",
       "      <td>https://www.instagram.com/p/C7dvnWHIve9/</td>\n",
       "      <td>48506231918</td>\n",
       "      <td>cloth</td>\n",
       "      <td>Video</td>\n",
       "      <td>43.675</td>\n",
       "      <td>197</td>\n",
       "      <td>2215</td>\n",
       "      <td>aimee_apparel_</td>\n",
       "      <td>CHIAMAKA || LAGOS CLOTH VENDOR || ANAMBRA CLOT...</td>\n",
       "    </tr>\n",
       "  </tbody>\n",
       "</table>\n",
       "</div>"
      ],
      "text/plain": [
       "             id  videoViewCount  commentsCount                 timestamp  \\\n",
       "0  3.377730e+18               0              2  2024-05-28T06:13:04.000Z   \n",
       "1  3.378452e+18             255             15  2024-05-29T06:08:32.000Z   \n",
       "2  3.377729e+18             632             51  2024-05-28T06:11:10.000Z   \n",
       "3  3.376985e+18             643             81  2024-05-27T06:00:06.000Z   \n",
       "4  3.377065e+18             966            151  2024-05-27T08:16:41.000Z   \n",
       "\n",
       "                                        url      ownerId productType   type  \\\n",
       "0  https://www.instagram.com/p/C7gG02Io8z5/  48506231918       cloth  Image   \n",
       "1  https://www.instagram.com/p/C7irDFfogZg/  48506231918       cloth  Video   \n",
       "2  https://www.instagram.com/p/C7gGksNIQ_d/  48506231918       cloth  Video   \n",
       "3  https://www.instagram.com/p/C7ddlvgoxK1/   4885237291       cloth  Video   \n",
       "4  https://www.instagram.com/p/C7dvnWHIve9/  48506231918       cloth  Video   \n",
       "\n",
       "   videoDuration  likesCount  videoPlayCount   ownerUsername  \\\n",
       "0          0.000           5               0  aimee_apparel_   \n",
       "1         20.166          37             541  aimee_apparel_   \n",
       "2         15.138         112            1665  aimee_apparel_   \n",
       "3         16.902         143            1657        veecki._   \n",
       "4         43.675         197            2215  aimee_apparel_   \n",
       "\n",
       "                                       ownerFullName  \n",
       "0  CHIAMAKA || LAGOS CLOTH VENDOR || ANAMBRA CLOT...  \n",
       "1  CHIAMAKA || LAGOS CLOTH VENDOR || ANAMBRA CLOT...  \n",
       "2  CHIAMAKA || LAGOS CLOTH VENDOR || ANAMBRA CLOT...  \n",
       "3                                 VEE 👑 || Creator 📸  \n",
       "4  CHIAMAKA || LAGOS CLOTH VENDOR || ANAMBRA CLOT...  "
      ]
     },
     "execution_count": 2,
     "metadata": {},
     "output_type": "execute_result"
    }
   ],
   "source": [
    "# Display the first 5 rows\n",
    "data.head()"
   ]
  },
  {
   "cell_type": "markdown",
   "id": "11f8d8cc-7599-4368-a6cd-b45d9e267380",
   "metadata": {},
   "source": [
    "#### Handling Missing Values"
   ]
  },
  {
   "cell_type": "code",
   "execution_count": 3,
   "id": "bf8e745e-f59e-485f-b559-74191caf2ef7",
   "metadata": {},
   "outputs": [
    {
     "name": "stdout",
     "output_type": "stream",
     "text": [
      "id                0\n",
      "videoViewCount    0\n",
      "commentsCount     0\n",
      "timestamp         0\n",
      "url               0\n",
      "ownerId           0\n",
      "productType       0\n",
      "type              0\n",
      "videoDuration     0\n",
      "likesCount        0\n",
      "videoPlayCount    0\n",
      "ownerUsername     0\n",
      "ownerFullName     0\n",
      "dtype: int64\n"
     ]
    }
   ],
   "source": [
    "# Check for missing values\n",
    "missing_values = data.isnull().sum()\n",
    "print(missing_values)"
   ]
  },
  {
   "cell_type": "markdown",
   "id": "1386d5b1-54c7-42f5-afb7-fd7018ec79d9",
   "metadata": {},
   "source": [
    "We can view that we do not have any missing values in the dataset"
   ]
  },
  {
   "cell_type": "markdown",
   "id": "c24d9500-f578-49b8-9728-bd30b0647ef7",
   "metadata": {},
   "source": [
    "#### Handling Duplicates"
   ]
  },
  {
   "cell_type": "code",
   "execution_count": 4,
   "id": "ed6dca66-1145-4e03-b986-27861aa61b27",
   "metadata": {},
   "outputs": [
    {
     "name": "stdout",
     "output_type": "stream",
     "text": [
      "Number of duplicates removed: 1\n"
     ]
    }
   ],
   "source": [
    "# Remove duplicate rows if any\n",
    "data_cleaned = data.drop_duplicates()\n",
    "print(f'Number of duplicates removed: {data.shape[0] - data_cleaned.shape[0]}')"
   ]
  },
  {
   "cell_type": "markdown",
   "id": "f24f660e-780d-4d2d-8667-1f94bfcd3d7b",
   "metadata": {},
   "source": [
    "Here we removed duplicate records to avoid bias in the model."
   ]
  },
  {
   "cell_type": "markdown",
   "id": "ebde7ee9-98fb-48e1-8f28-f6e9d05ea2bd",
   "metadata": {},
   "source": [
    "#### Handling Outliers\n",
    "\n",
    "Since we already detected outliers in the previous step, we can decide whether to remove or treat them. Outliers in likesCount may represent highly popular posts, so removing them might not always be appropriate. So we decided to keep them."
   ]
  },
  {
   "cell_type": "code",
   "execution_count": 5,
   "id": "992e684f-1f76-4766-8ddd-5f50471ba900",
   "metadata": {},
   "outputs": [
    {
     "name": "stdout",
     "output_type": "stream",
     "text": [
      "Number of outliers in likesCount: 308\n"
     ]
    }
   ],
   "source": [
    "# Remove outliers in likesCount if needed (based on previous outlier analysis)\n",
    "Q1 = data['likesCount'].quantile(0.25)\n",
    "Q3 = data['likesCount'].quantile(0.75)\n",
    "IQR = Q3 - Q1\n",
    "outliers = data[(data['likesCount'] < (Q1 - 1.5 * IQR)) | (data['likesCount'] > (Q3 + 1.5 * IQR))]\n",
    "print(f\"Number of outliers in likesCount: {outliers.shape[0]}\")"
   ]
  },
  {
   "cell_type": "markdown",
   "id": "41fc3e35-9249-4533-b67c-c8d2623a70a4",
   "metadata": {},
   "source": [
    "### Data Transformation\n",
    "\n",
    "Here we transform the data into a form suitable for machine learning models. This includes encoding categorical variables, scaling, and feature engineering."
   ]
  },
  {
   "cell_type": "markdown",
   "id": "2486d827-5d79-4e07-acdd-2bfbddb0cc7f",
   "metadata": {},
   "source": [
    "#### Encoding Categorical Variables\n",
    "\n",
    "The dataset has categorical features like productType and type. These need to be encoded into numerical values"
   ]
  },
  {
   "cell_type": "code",
   "execution_count": 6,
   "id": "076e5f37-4c35-4d99-94c9-8b1425aeac44",
   "metadata": {},
   "outputs": [
    {
     "name": "stdout",
     "output_type": "stream",
     "text": [
      "ProductType classes and codes: {'Beauty products': 0, 'Content creation/Tourism': 1, 'Entertainment': 2, 'Housing': 3, 'Logistics': 4, 'blog': 5, 'cloth': 6, 'food': 7, 'food/cakes': 8}\n",
      "Type classes and codes: {'Image': 0, 'Video': 1}\n"
     ]
    },
    {
     "name": "stderr",
     "output_type": "stream",
     "text": [
      "C:\\Users\\dilan\\AppData\\Local\\Temp\\ipykernel_26248\\2181184109.py:8: SettingWithCopyWarning: \n",
      "A value is trying to be set on a copy of a slice from a DataFrame.\n",
      "Try using .loc[row_indexer,col_indexer] = value instead\n",
      "\n",
      "See the caveats in the documentation: https://pandas.pydata.org/pandas-docs/stable/user_guide/indexing.html#returning-a-view-versus-a-copy\n",
      "  data_cleaned['productType'] = label_encoder_product.fit_transform(data_cleaned['productType'])\n",
      "C:\\Users\\dilan\\AppData\\Local\\Temp\\ipykernel_26248\\2181184109.py:9: SettingWithCopyWarning: \n",
      "A value is trying to be set on a copy of a slice from a DataFrame.\n",
      "Try using .loc[row_indexer,col_indexer] = value instead\n",
      "\n",
      "See the caveats in the documentation: https://pandas.pydata.org/pandas-docs/stable/user_guide/indexing.html#returning-a-view-versus-a-copy\n",
      "  data_cleaned['type'] = label_encoder_type.fit_transform(data_cleaned['type'])\n"
     ]
    }
   ],
   "source": [
    "from sklearn.preprocessing import LabelEncoder\n",
    "\n",
    "# Initialize the LabelEncoder\n",
    "label_encoder_product = LabelEncoder()\n",
    "label_encoder_type = LabelEncoder()\n",
    "\n",
    "# Fit LabelEncoder to 'productType' and 'type' columns\n",
    "data_cleaned['productType'] = label_encoder_product.fit_transform(data_cleaned['productType'])\n",
    "data_cleaned['type'] = label_encoder_type.fit_transform(data_cleaned['type'])\n",
    "\n",
    "# Print the classes and their corresponding codes\n",
    "print(\"ProductType classes and codes:\", dict(zip(label_encoder_product.classes_, label_encoder_product.transform(label_encoder_product.classes_))))\n",
    "print(\"Type classes and codes:\", dict(zip(label_encoder_type.classes_, label_encoder_type.transform(label_encoder_type.classes_))))"
   ]
  },
  {
   "cell_type": "code",
   "execution_count": 7,
   "id": "248592c1-b856-4a3a-9044-036c0df8d367",
   "metadata": {},
   "outputs": [
    {
     "name": "stdout",
     "output_type": "stream",
     "text": [
      "                id  videoViewCount  commentsCount                 timestamp  \\\n",
      "0     3.377730e+18               0              2  2024-05-28T06:13:04.000Z   \n",
      "1     3.378452e+18             255             15  2024-05-29T06:08:32.000Z   \n",
      "2     3.377729e+18             632             51  2024-05-28T06:11:10.000Z   \n",
      "3     3.376985e+18             643             81  2024-05-27T06:00:06.000Z   \n",
      "4     3.377065e+18             966            151  2024-05-27T08:16:41.000Z   \n",
      "...            ...             ...            ...                       ...   \n",
      "2084  3.354629e+18            1884              4  2024-04-26T09:16:59.000Z   \n",
      "2085  3.353973e+18               0              0  2024-04-25T11:32:35.000Z   \n",
      "2086  3.298135e+18            1372              3  2024-02-08T10:36:24.000Z   \n",
      "2087  3.366961e+18               0             20  2024-05-13T09:37:33.000Z   \n",
      "2088  3.313981e+18            1136              1  2024-03-01T07:17:24.000Z   \n",
      "\n",
      "                                           url      ownerId  productType  \\\n",
      "0     https://www.instagram.com/p/C7gG02Io8z5/  48506231918            6   \n",
      "1     https://www.instagram.com/p/C7irDFfogZg/  48506231918            6   \n",
      "2     https://www.instagram.com/p/C7gGksNIQ_d/  48506231918            6   \n",
      "3     https://www.instagram.com/p/C7ddlvgoxK1/   4885237291            6   \n",
      "4     https://www.instagram.com/p/C7dvnWHIve9/  48506231918            6   \n",
      "...                                        ...          ...          ...   \n",
      "2084  https://www.instagram.com/p/C6OCaT2KKdJ/   1405891992            2   \n",
      "2085  https://www.instagram.com/p/C6LtKGZo1RK/   1405891992            2   \n",
      "2086  https://www.instagram.com/p/C3FVK_FohXq/   1318159856            8   \n",
      "2087  https://www.instagram.com/p/C652TZot4vf/   1405891992            2   \n",
      "2088  https://www.instagram.com/p/C39n-_AsaDh/    434208233            2   \n",
      "\n",
      "      type  videoDuration  likesCount  videoPlayCount   ownerUsername  \\\n",
      "0        0          0.000           5               0  aimee_apparel_   \n",
      "1        1         20.166          37             541  aimee_apparel_   \n",
      "2        1         15.138         112            1665  aimee_apparel_   \n",
      "3        1         16.902         143            1657        veecki._   \n",
      "4        1         43.675         197            2215  aimee_apparel_   \n",
      "...    ...            ...         ...             ...             ...   \n",
      "2084     1         22.434          44            3716    aspomtravels   \n",
      "2085     0          0.000           7               0    aspomtravels   \n",
      "2086     1         10.148          -1            4021       saltlagos   \n",
      "2087     0          0.000           8               0    aspomtravels   \n",
      "2088     1         43.633          18            3324     xclamations   \n",
      "\n",
      "                                          ownerFullName  \n",
      "0     CHIAMAKA || LAGOS CLOTH VENDOR || ANAMBRA CLOT...  \n",
      "1     CHIAMAKA || LAGOS CLOTH VENDOR || ANAMBRA CLOT...  \n",
      "2     CHIAMAKA || LAGOS CLOTH VENDOR || ANAMBRA CLOT...  \n",
      "3                                    VEE 👑 || Creator 📸  \n",
      "4     CHIAMAKA || LAGOS CLOTH VENDOR || ANAMBRA CLOT...  \n",
      "...                                                 ...  \n",
      "2084                                      Aspom Travels  \n",
      "2085                                      Aspom Travels  \n",
      "2086                                         Salt Lagos  \n",
      "2087                                      Aspom Travels  \n",
      "2088                         Xclamations by tomi rotimi  \n",
      "\n",
      "[2089 rows x 13 columns]\n"
     ]
    }
   ],
   "source": [
    "print(data_cleaned)"
   ]
  },
  {
   "cell_type": "markdown",
   "id": "f69f8158-c7cb-4b35-9e68-065f08903ea8",
   "metadata": {},
   "source": [
    "#### Feature Engineering\n",
    "\n",
    "Here we want to create new features that could improve model performance, such as the hour of day or day of the week when posts were made."
   ]
  },
  {
   "cell_type": "code",
   "execution_count": 8,
   "id": "93dbb3a4-4dda-4277-a80d-964a103bb22d",
   "metadata": {},
   "outputs": [
    {
     "name": "stdout",
     "output_type": "stream",
     "text": [
      "                id  videoViewCount  commentsCount                 timestamp  \\\n",
      "0     3.377730e+18               0              2 2024-05-28 06:13:04+00:00   \n",
      "1     3.378452e+18             255             15 2024-05-29 06:08:32+00:00   \n",
      "2     3.377729e+18             632             51 2024-05-28 06:11:10+00:00   \n",
      "3     3.376985e+18             643             81 2024-05-27 06:00:06+00:00   \n",
      "4     3.377065e+18             966            151 2024-05-27 08:16:41+00:00   \n",
      "...            ...             ...            ...                       ...   \n",
      "2084  3.354629e+18            1884              4 2024-04-26 09:16:59+00:00   \n",
      "2085  3.353973e+18               0              0 2024-04-25 11:32:35+00:00   \n",
      "2086  3.298135e+18            1372              3 2024-02-08 10:36:24+00:00   \n",
      "2087  3.366961e+18               0             20 2024-05-13 09:37:33+00:00   \n",
      "2088  3.313981e+18            1136              1 2024-03-01 07:17:24+00:00   \n",
      "\n",
      "                                           url      ownerId  productType  \\\n",
      "0     https://www.instagram.com/p/C7gG02Io8z5/  48506231918            6   \n",
      "1     https://www.instagram.com/p/C7irDFfogZg/  48506231918            6   \n",
      "2     https://www.instagram.com/p/C7gGksNIQ_d/  48506231918            6   \n",
      "3     https://www.instagram.com/p/C7ddlvgoxK1/   4885237291            6   \n",
      "4     https://www.instagram.com/p/C7dvnWHIve9/  48506231918            6   \n",
      "...                                        ...          ...          ...   \n",
      "2084  https://www.instagram.com/p/C6OCaT2KKdJ/   1405891992            2   \n",
      "2085  https://www.instagram.com/p/C6LtKGZo1RK/   1405891992            2   \n",
      "2086  https://www.instagram.com/p/C3FVK_FohXq/   1318159856            8   \n",
      "2087  https://www.instagram.com/p/C652TZot4vf/   1405891992            2   \n",
      "2088  https://www.instagram.com/p/C39n-_AsaDh/    434208233            2   \n",
      "\n",
      "      type  videoDuration  likesCount  videoPlayCount   ownerUsername  \\\n",
      "0        0          0.000           5               0  aimee_apparel_   \n",
      "1        1         20.166          37             541  aimee_apparel_   \n",
      "2        1         15.138         112            1665  aimee_apparel_   \n",
      "3        1         16.902         143            1657        veecki._   \n",
      "4        1         43.675         197            2215  aimee_apparel_   \n",
      "...    ...            ...         ...             ...             ...   \n",
      "2084     1         22.434          44            3716    aspomtravels   \n",
      "2085     0          0.000           7               0    aspomtravels   \n",
      "2086     1         10.148          -1            4021       saltlagos   \n",
      "2087     0          0.000           8               0    aspomtravels   \n",
      "2088     1         43.633          18            3324     xclamations   \n",
      "\n",
      "                                          ownerFullName  hour  day_of_week  \n",
      "0     CHIAMAKA || LAGOS CLOTH VENDOR || ANAMBRA CLOT...     6            1  \n",
      "1     CHIAMAKA || LAGOS CLOTH VENDOR || ANAMBRA CLOT...     6            2  \n",
      "2     CHIAMAKA || LAGOS CLOTH VENDOR || ANAMBRA CLOT...     6            1  \n",
      "3                                    VEE 👑 || Creator 📸     6            0  \n",
      "4     CHIAMAKA || LAGOS CLOTH VENDOR || ANAMBRA CLOT...     8            0  \n",
      "...                                                 ...   ...          ...  \n",
      "2084                                      Aspom Travels     9            4  \n",
      "2085                                      Aspom Travels    11            3  \n",
      "2086                                         Salt Lagos    10            3  \n",
      "2087                                      Aspom Travels     9            0  \n",
      "2088                         Xclamations by tomi rotimi     7            4  \n",
      "\n",
      "[2089 rows x 15 columns]\n"
     ]
    },
    {
     "name": "stderr",
     "output_type": "stream",
     "text": [
      "C:\\Users\\dilan\\AppData\\Local\\Temp\\ipykernel_26248\\2474122210.py:2: SettingWithCopyWarning: \n",
      "A value is trying to be set on a copy of a slice from a DataFrame.\n",
      "Try using .loc[row_indexer,col_indexer] = value instead\n",
      "\n",
      "See the caveats in the documentation: https://pandas.pydata.org/pandas-docs/stable/user_guide/indexing.html#returning-a-view-versus-a-copy\n",
      "  data_cleaned['timestamp'] = pd.to_datetime(data_cleaned['timestamp'])\n",
      "C:\\Users\\dilan\\AppData\\Local\\Temp\\ipykernel_26248\\2474122210.py:3: SettingWithCopyWarning: \n",
      "A value is trying to be set on a copy of a slice from a DataFrame.\n",
      "Try using .loc[row_indexer,col_indexer] = value instead\n",
      "\n",
      "See the caveats in the documentation: https://pandas.pydata.org/pandas-docs/stable/user_guide/indexing.html#returning-a-view-versus-a-copy\n",
      "  data_cleaned['hour'] = data_cleaned['timestamp'].dt.hour\n",
      "C:\\Users\\dilan\\AppData\\Local\\Temp\\ipykernel_26248\\2474122210.py:4: SettingWithCopyWarning: \n",
      "A value is trying to be set on a copy of a slice from a DataFrame.\n",
      "Try using .loc[row_indexer,col_indexer] = value instead\n",
      "\n",
      "See the caveats in the documentation: https://pandas.pydata.org/pandas-docs/stable/user_guide/indexing.html#returning-a-view-versus-a-copy\n",
      "  data_cleaned['day_of_week'] = data_cleaned['timestamp'].dt.dayofweek\n"
     ]
    }
   ],
   "source": [
    "# Extract additional features from timestamp\n",
    "data_cleaned['timestamp'] = pd.to_datetime(data_cleaned['timestamp'])\n",
    "data_cleaned['hour'] = data_cleaned['timestamp'].dt.hour\n",
    "data_cleaned['day_of_week'] = data_cleaned['timestamp'].dt.dayofweek\n",
    "print(data_cleaned)"
   ]
  },
  {
   "cell_type": "markdown",
   "id": "444c3be0-2b4f-4583-8e52-1d6bc2346227",
   "metadata": {},
   "source": [
    "Here two new features hour and day_of_week are created to capture potential differences in engagement over days and hours."
   ]
  },
  {
   "cell_type": "markdown",
   "id": "287d6732-a6e8-4d79-9bd9-360ae0193778",
   "metadata": {},
   "source": [
    "### Feature Selection\n",
    "\n",
    "Here we select the most relevant features for building machine learning models."
   ]
  },
  {
   "cell_type": "markdown",
   "id": "e1475e2c-63ab-42b4-a988-08c404a5d039",
   "metadata": {},
   "source": [
    "#### Correlation-Based Feature Selection\n",
    "\n",
    "We already calculated the correlation matrix in the data understanding phase. Based on that, we can drop features that are irrelevant or highly correlated with each other or have little relationship with the target variable."
   ]
  },
  {
   "cell_type": "code",
   "execution_count": 9,
   "id": "4053af9f-aee0-4c1b-9d2b-a565a28ac819",
   "metadata": {},
   "outputs": [
    {
     "name": "stderr",
     "output_type": "stream",
     "text": [
      "C:\\Users\\dilan\\AppData\\Local\\Temp\\ipykernel_26248\\1053130257.py:2: SettingWithCopyWarning: \n",
      "A value is trying to be set on a copy of a slice from a DataFrame\n",
      "\n",
      "See the caveats in the documentation: https://pandas.pydata.org/pandas-docs/stable/user_guide/indexing.html#returning-a-view-versus-a-copy\n",
      "  data_cleaned.drop(columns=['id', 'url', 'ownerId', 'ownerUsername', 'ownerFullName', 'timestamp'], inplace=True)\n"
     ]
    }
   ],
   "source": [
    "# Drop irrelevant columns\n",
    "data_cleaned.drop(columns=['id', 'url', 'ownerId', 'ownerUsername', 'ownerFullName', 'timestamp'], inplace=True)"
   ]
  },
  {
   "cell_type": "code",
   "execution_count": 10,
   "id": "112ca499-74ea-4a2d-a314-156fb760a1d4",
   "metadata": {},
   "outputs": [],
   "source": [
    "# Select relevant features\n",
    "features = ['commentsCount', 'productType', 'type', 'videoDuration', 'videoViewCount', 'hour', 'day_of_week']\n",
    "target = 'likesCount'\n",
    "\n",
    "X = data_cleaned[features]\n",
    "y = data_cleaned[target]"
   ]
  },
  {
   "cell_type": "code",
   "execution_count": 11,
   "id": "29addb2c-3ca1-4d76-9826-0e4015aad554",
   "metadata": {},
   "outputs": [
    {
     "data": {
      "text/html": [
       "<div>\n",
       "<style scoped>\n",
       "    .dataframe tbody tr th:only-of-type {\n",
       "        vertical-align: middle;\n",
       "    }\n",
       "\n",
       "    .dataframe tbody tr th {\n",
       "        vertical-align: top;\n",
       "    }\n",
       "\n",
       "    .dataframe thead th {\n",
       "        text-align: right;\n",
       "    }\n",
       "</style>\n",
       "<table border=\"1\" class=\"dataframe\">\n",
       "  <thead>\n",
       "    <tr style=\"text-align: right;\">\n",
       "      <th></th>\n",
       "      <th>commentsCount</th>\n",
       "      <th>productType</th>\n",
       "      <th>type</th>\n",
       "      <th>videoDuration</th>\n",
       "      <th>videoViewCount</th>\n",
       "      <th>hour</th>\n",
       "      <th>day_of_week</th>\n",
       "    </tr>\n",
       "  </thead>\n",
       "  <tbody>\n",
       "    <tr>\n",
       "      <th>0</th>\n",
       "      <td>2</td>\n",
       "      <td>6</td>\n",
       "      <td>0</td>\n",
       "      <td>0.000</td>\n",
       "      <td>0</td>\n",
       "      <td>6</td>\n",
       "      <td>1</td>\n",
       "    </tr>\n",
       "    <tr>\n",
       "      <th>1</th>\n",
       "      <td>15</td>\n",
       "      <td>6</td>\n",
       "      <td>1</td>\n",
       "      <td>20.166</td>\n",
       "      <td>255</td>\n",
       "      <td>6</td>\n",
       "      <td>2</td>\n",
       "    </tr>\n",
       "    <tr>\n",
       "      <th>2</th>\n",
       "      <td>51</td>\n",
       "      <td>6</td>\n",
       "      <td>1</td>\n",
       "      <td>15.138</td>\n",
       "      <td>632</td>\n",
       "      <td>6</td>\n",
       "      <td>1</td>\n",
       "    </tr>\n",
       "    <tr>\n",
       "      <th>3</th>\n",
       "      <td>81</td>\n",
       "      <td>6</td>\n",
       "      <td>1</td>\n",
       "      <td>16.902</td>\n",
       "      <td>643</td>\n",
       "      <td>6</td>\n",
       "      <td>0</td>\n",
       "    </tr>\n",
       "    <tr>\n",
       "      <th>4</th>\n",
       "      <td>151</td>\n",
       "      <td>6</td>\n",
       "      <td>1</td>\n",
       "      <td>43.675</td>\n",
       "      <td>966</td>\n",
       "      <td>8</td>\n",
       "      <td>0</td>\n",
       "    </tr>\n",
       "    <tr>\n",
       "      <th>...</th>\n",
       "      <td>...</td>\n",
       "      <td>...</td>\n",
       "      <td>...</td>\n",
       "      <td>...</td>\n",
       "      <td>...</td>\n",
       "      <td>...</td>\n",
       "      <td>...</td>\n",
       "    </tr>\n",
       "    <tr>\n",
       "      <th>2084</th>\n",
       "      <td>4</td>\n",
       "      <td>2</td>\n",
       "      <td>1</td>\n",
       "      <td>22.434</td>\n",
       "      <td>1884</td>\n",
       "      <td>9</td>\n",
       "      <td>4</td>\n",
       "    </tr>\n",
       "    <tr>\n",
       "      <th>2085</th>\n",
       "      <td>0</td>\n",
       "      <td>2</td>\n",
       "      <td>0</td>\n",
       "      <td>0.000</td>\n",
       "      <td>0</td>\n",
       "      <td>11</td>\n",
       "      <td>3</td>\n",
       "    </tr>\n",
       "    <tr>\n",
       "      <th>2086</th>\n",
       "      <td>3</td>\n",
       "      <td>8</td>\n",
       "      <td>1</td>\n",
       "      <td>10.148</td>\n",
       "      <td>1372</td>\n",
       "      <td>10</td>\n",
       "      <td>3</td>\n",
       "    </tr>\n",
       "    <tr>\n",
       "      <th>2087</th>\n",
       "      <td>20</td>\n",
       "      <td>2</td>\n",
       "      <td>0</td>\n",
       "      <td>0.000</td>\n",
       "      <td>0</td>\n",
       "      <td>9</td>\n",
       "      <td>0</td>\n",
       "    </tr>\n",
       "    <tr>\n",
       "      <th>2088</th>\n",
       "      <td>1</td>\n",
       "      <td>2</td>\n",
       "      <td>1</td>\n",
       "      <td>43.633</td>\n",
       "      <td>1136</td>\n",
       "      <td>7</td>\n",
       "      <td>4</td>\n",
       "    </tr>\n",
       "  </tbody>\n",
       "</table>\n",
       "<p>2089 rows × 7 columns</p>\n",
       "</div>"
      ],
      "text/plain": [
       "      commentsCount  productType  type  videoDuration  videoViewCount  hour  \\\n",
       "0                 2            6     0          0.000               0     6   \n",
       "1                15            6     1         20.166             255     6   \n",
       "2                51            6     1         15.138             632     6   \n",
       "3                81            6     1         16.902             643     6   \n",
       "4               151            6     1         43.675             966     8   \n",
       "...             ...          ...   ...            ...             ...   ...   \n",
       "2084              4            2     1         22.434            1884     9   \n",
       "2085              0            2     0          0.000               0    11   \n",
       "2086              3            8     1         10.148            1372    10   \n",
       "2087             20            2     0          0.000               0     9   \n",
       "2088              1            2     1         43.633            1136     7   \n",
       "\n",
       "      day_of_week  \n",
       "0               1  \n",
       "1               2  \n",
       "2               1  \n",
       "3               0  \n",
       "4               0  \n",
       "...           ...  \n",
       "2084            4  \n",
       "2085            3  \n",
       "2086            3  \n",
       "2087            0  \n",
       "2088            4  \n",
       "\n",
       "[2089 rows x 7 columns]"
      ]
     },
     "execution_count": 11,
     "metadata": {},
     "output_type": "execute_result"
    }
   ],
   "source": [
    "X"
   ]
  },
  {
   "cell_type": "code",
   "execution_count": 12,
   "id": "b6c07eba-633b-453d-b0fa-5ed678cf40ff",
   "metadata": {},
   "outputs": [
    {
     "data": {
      "text/plain": [
       "0         5\n",
       "1        37\n",
       "2       112\n",
       "3       143\n",
       "4       197\n",
       "       ... \n",
       "2084     44\n",
       "2085      7\n",
       "2086     -1\n",
       "2087      8\n",
       "2088     18\n",
       "Name: likesCount, Length: 2089, dtype: int64"
      ]
     },
     "execution_count": 12,
     "metadata": {},
     "output_type": "execute_result"
    }
   ],
   "source": [
    "y"
   ]
  },
  {
   "cell_type": "markdown",
   "id": "7d9c5b7b-0fb4-43c1-b494-46db8ee5e71f",
   "metadata": {},
   "source": [
    "#### Scaling Numerical Features\n",
    "\n",
    "Machine learning models generally perform better when numerical features are on a similar scale. We'll use standard scaling here."
   ]
  },
  {
   "cell_type": "code",
   "execution_count": 13,
   "id": "cc40842b-aa51-468d-8465-010e27232fa5",
   "metadata": {},
   "outputs": [],
   "source": [
    "from sklearn.preprocessing import StandardScaler\n",
    "\n",
    "# Standardize the features\n",
    "scaler = StandardScaler()\n",
    "X_scaled = scaler.fit_transform(X)"
   ]
  },
  {
   "cell_type": "code",
   "execution_count": 14,
   "id": "29df46a8-0238-42d8-b43d-4077d913d4a9",
   "metadata": {},
   "outputs": [
    {
     "data": {
      "text/plain": [
       "array([[-0.15840666,  1.50473846, -0.91150981, ..., -0.11633374,\n",
       "        -1.54294566, -0.90092747],\n",
       "       [-0.13581564,  1.50473846,  1.0970809 , ..., -0.11382056,\n",
       "        -1.54294566, -0.34997973],\n",
       "       [-0.0732559 ,  1.50473846,  1.0970809 , ..., -0.11010499,\n",
       "        -1.54294566, -0.90092747],\n",
       "       ...,\n",
       "       [-0.15666889,  2.44264646,  1.0970809 , ..., -0.10281183,\n",
       "        -0.58650249,  0.20096801],\n",
       "       [-0.12712679, -0.37107753, -0.91150981, ..., -0.11633374,\n",
       "        -0.82561328, -1.45187521],\n",
       "       [-0.16014443, -0.37107753,  1.0970809 , ..., -0.10513776,\n",
       "        -1.30383487,  0.75191575]])"
      ]
     },
     "execution_count": 14,
     "metadata": {},
     "output_type": "execute_result"
    }
   ],
   "source": [
    "X_scaled"
   ]
  },
  {
   "cell_type": "markdown",
   "id": "9eaec8f4-4c8c-43b3-8ef0-798cf2c1e116",
   "metadata": {},
   "source": [
    "### Data Splitting\n",
    "\n",
    "Here we split the data into training and testing sets to evaluate model performance."
   ]
  },
  {
   "cell_type": "code",
   "execution_count": 15,
   "id": "0a18ba58-840f-40ce-b7c4-24cace2daf0d",
   "metadata": {},
   "outputs": [],
   "source": [
    "from sklearn.model_selection import train_test_split\n",
    "\n",
    "# Split the data into training and testing sets\n",
    "X_train, X_test, y_train, y_test = train_test_split(X_scaled, y, test_size=0.2, random_state=42)"
   ]
  },
  {
   "cell_type": "markdown",
   "id": "29f4e8bc-598d-41db-94f3-34402613203f",
   "metadata": {},
   "source": [
    "### Data Preparation for Deployment\n",
    "\n",
    "Since we plan to use Streamlit for deployment after modeling, it is important to save key elements of the data preparation process that will be used during model inference"
   ]
  },
  {
   "cell_type": "markdown",
   "id": "ae193519-67fd-4505-96a7-849deba07252",
   "metadata": {},
   "source": [
    "#### Preprocessed Data\n",
    "\n",
    "We want to use the same preprocessed data for further analysis or testing without re-running the preprocessing steps each time"
   ]
  },
  {
   "cell_type": "code",
   "execution_count": 16,
   "id": "bfadcdfd-831a-4899-ac00-b917495952ac",
   "metadata": {},
   "outputs": [],
   "source": [
    "# Convert the arrays back to DatFrames\n",
    "X_train = pd.DataFrame(X_train, columns=X.columns)\n",
    "X_test = pd.DataFrame(X_test, columns=X.columns)\n",
    "y_train = pd.Series(y_train, name='likesCount')\n",
    "y_test = pd.Series(y_test, name='likesCount')"
   ]
  },
  {
   "cell_type": "code",
   "execution_count": 17,
   "id": "941b36ab-49c7-42c6-84ea-2663ca55d140",
   "metadata": {},
   "outputs": [],
   "source": [
    "# Save preprocessed data\n",
    "X_train.to_csv('../data/processed/X_train.csv', index=False)\n",
    "X_test.to_csv('../data/processed/X_test.csv', index=False)\n",
    "y_train.to_csv('../data/processed/y_train.csv', index=False)\n",
    "y_test.to_csv('../data/processed/y_test.csv', index=False)"
   ]
  },
  {
   "cell_type": "markdown",
   "id": "9d7740f8-c3ca-453a-accb-7c389fc3b290",
   "metadata": {},
   "source": [
    "#### Scaler for Standardization\n",
    "\n",
    "Since our model relies on standardized data (i.e., scaling with StandardScaler), we need to save the fitted scaler. We will need it to transform any new data (from users) in the same way before making predictions with your model."
   ]
  },
  {
   "cell_type": "code",
   "execution_count": 18,
   "id": "865c577b-c6dc-4a97-ac11-5bec359b08f1",
   "metadata": {},
   "outputs": [
    {
     "data": {
      "text/plain": [
       "['scaler.pkl']"
      ]
     },
     "execution_count": 18,
     "metadata": {},
     "output_type": "execute_result"
    }
   ],
   "source": [
    "import joblib\n",
    "\n",
    "# Save the scaler to disk\n",
    "joblib.dump(scaler, '../models/scaler.pkl')"
   ]
  },
  {
   "cell_type": "markdown",
   "id": "00c500a0-8bd8-4b2a-a608-7a007ff2875c",
   "metadata": {},
   "source": [
    "#### Feature Metadata\n",
    "\n",
    "Here we save any metadata about the features, such as:\n",
    "- The names of the features used in the model.\n",
    "- Any categorical encodings we performed, especially if you're using labelencoder or similar."
   ]
  },
  {
   "cell_type": "code",
   "execution_count": 19,
   "id": "d093c7f8-9632-40b6-839f-d3d4bec589bd",
   "metadata": {},
   "outputs": [],
   "source": [
    "# Save the feature names\n",
    "import json\n",
    "\n",
    "with open('../models/feature_names.json', 'w') as f:\n",
    "    json.dump(X_train.columns.tolist(), f)"
   ]
  },
  {
   "cell_type": "code",
   "execution_count": 20,
   "id": "8eeed738-666e-4db4-beda-007377e2cc7b",
   "metadata": {},
   "outputs": [
    {
     "data": {
      "text/plain": [
       "['label_encoder_type.pkl']"
      ]
     },
     "execution_count": 20,
     "metadata": {},
     "output_type": "execute_result"
    }
   ],
   "source": [
    "# Save the label encoders for both 'productType' and 'type'\n",
    "joblib.dump(label_encoder_product, '../models/label_encoder_product.pkl')\n",
    "joblib.dump(label_encoder_type, '../models/label_encoder_type.pkl')"
   ]
  }
 ],
 "metadata": {
  "kernelspec": {
   "display_name": "Python 3 (ipykernel)",
   "language": "python",
   "name": "python3"
  },
  "language_info": {
   "codemirror_mode": {
    "name": "ipython",
    "version": 3
   },
   "file_extension": ".py",
   "mimetype": "text/x-python",
   "name": "python",
   "nbconvert_exporter": "python",
   "pygments_lexer": "ipython3",
   "version": "3.12.4"
  }
 },
 "nbformat": 4,
 "nbformat_minor": 5
}
